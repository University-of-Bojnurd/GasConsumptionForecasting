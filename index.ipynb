{
 "cells": [
  {
   "cell_type": "code",
   "execution_count": null,
   "metadata": {},
   "outputs": [],
   "source": [
    "#hide\n",
    "from GasConsumptionForecasting import *"
   ]
  },
  {
   "cell_type": "markdown",
   "metadata": {},
   "source": [
    "# GasConsumptionForecasting\n",
    "\n",
    "> Extended learning predictive model for gas consumption pattern in order to decide the strategies of North Khorasan Gas Company "
   ]
  },
  {
   "cell_type": "markdown",
   "metadata": {},
   "source": [
    "<br>\n",
    "<br>\n",
    "<div style=\"font-family:Vazir;\">\n",
    "    \n",
    "<h3 align='center'>\n",
    "    :عنوان پایان‌نامه\n",
    "</h3>\n",
    "<br>\n",
    "<h1 align='center'>\n",
    "    توسعه مدل یادگیرنده پیش‌بینی الگوی مصرف گاز به‌منظور تصمیم‌گیری راهبردهای شرکت گاز خراسان شمالی\n",
    "</h1>\n",
    "\n",
    "<br>\n",
    "\n",
    "<br>\n",
    "\n",
    "<h2 align='center'>\n",
    "    نگارش: مصطفی کریمی\n",
    "    <br>\n",
    "    استاد راهنما: دکتر حسین کریمی\n",
    "    <br>\n",
    "    مشاور صنعتی: مهندس وحیدی\n",
    "   <br>\n",
    "   دانشگاه بجنورد - اسفند ماه 1400     \n",
    "</h2>\n",
    "\n",
    "<br>\n",
    "\n",
    "\n",
    "\n",
    " \n",
    "    \n",
    "</div>"
   ]
  }
 ],
 "metadata": {
  "kernelspec": {
   "display_name": "Python 3",
   "language": "python",
   "name": "python3"
  }
 },
 "nbformat": 4,
 "nbformat_minor": 2
}
